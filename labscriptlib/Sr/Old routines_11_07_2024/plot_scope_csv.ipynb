{
 "cells": [
  {
   "cell_type": "code",
   "execution_count": null,
   "id": "9fd2aead-6bfa-4c5d-a861-6b9dd924cbfc",
   "metadata": {
    "tags": []
   },
   "outputs": [],
   "source": [
    "import math \n",
    "import numpy as np\n",
    "import matplotlib.pyplot as plt\n",
    "import pandas as pd\n",
    "\n",
    "\n",
    "\n",
    "file_path = 'SDS00001.csv'  # Replace with your CSV file path\n",
    "df = pd.read_csv(file_path)\n",
    "\n",
    "df_data = df.to_json(orient= 'table')\n",
    "print(df_data)"
   ]
  },
  {
   "cell_type": "code",
   "execution_count": null,
   "id": "305bb60e-efce-444c-a564-cfc6e037e1d8",
   "metadata": {},
   "outputs": [],
   "source": [
    "#Plot\n",
    "\n",
    "# signal = df_data[\"Time\"]\n",
    "# print(signal)\n",
    "\n",
    "# time = df_data[1,2]\n",
    "\n",
    "# plt.figure(figsize=(10, 6))  # Adjust the figure size as needed\n",
    "# plt.plot(time, signal, label='Signal Data')\n",
    "# plt.title('Signal Data Plot')\n",
    "# plt.xlabel('Time')\n",
    "# plt.ylabel('Signal Value')\n",
    "# plt.grid(True)\n",
    "# plt.legend()\n",
    "# plt.show()\n",
    "\n",
    "\n",
    "plt.rcParams[\"figure.figsize\"] = [7.50, 3.50]\n",
    "plt.rcParams[\"figure.autolayout\"] = True\n",
    "\n",
    "headers = ['Time', 'Ch1', 'Ch2']\n",
    "\n",
    "df = pd.read_csv('SDS00001.csv', names=headers)\n",
    "\n",
    "print(df)\n",
    "df.set_index('Time').plot()\n",
    "\n",
    "plt.show()"
   ]
  }
 ],
 "metadata": {
  "kernelspec": {
   "display_name": "Python 3",
   "language": "python",
   "name": "python3"
  },
  "language_info": {
   "codemirror_mode": {
    "name": "ipython",
    "version": 3
   },
   "file_extension": ".py",
   "mimetype": "text/x-python",
   "name": "python",
   "nbconvert_exporter": "python",
   "pygments_lexer": "ipython3",
   "version": "3.11.4"
  },
  "vscode": {
   "interpreter": {
    "hash": "7581696d854b0659e681675156c04326d723b3fafbc4a312fc98263501af21bd"
   }
  }
 },
 "nbformat": 4,
 "nbformat_minor": 5
}
