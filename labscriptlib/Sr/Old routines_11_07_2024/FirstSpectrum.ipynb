{
 "cells": [
  {
   "cell_type": "code",
   "execution_count": 2,
   "metadata": {},
   "outputs": [
    {
     "ename": "ValueError",
     "evalue": "484913 is not a valid ModelNumber",
     "output_type": "error",
     "traceback": [
      "\u001b[1;31m---------------------------------------------------------------------------\u001b[0m",
      "\u001b[1;31mValueError\u001b[0m                                Traceback (most recent call last)",
      "Cell \u001b[1;32mIn[2], line 4\u001b[0m\n\u001b[0;32m      1\u001b[0m \u001b[38;5;28;01mfrom\u001b[39;00m \u001b[38;5;21;01mspectrumdevice\u001b[39;00m \u001b[38;5;28;01mimport\u001b[39;00m SpectrumAWGCard\n\u001b[0;32m      3\u001b[0m \u001b[38;5;66;03m# digitiser_1 = SpectrumDigitiserCard(device_number=0)\u001b[39;00m\n\u001b[1;32m----> 4\u001b[0m awg_1 \u001b[38;5;241m=\u001b[39m \u001b[43mSpectrumAWGCard\u001b[49m\u001b[43m(\u001b[49m\u001b[43mdevice_number\u001b[49m\u001b[38;5;241;43m=\u001b[39;49m\u001b[38;5;241;43m0\u001b[39;49m\u001b[43m)\u001b[49m\n",
      "File \u001b[1;32mc:\\Users\\florydberg01\\anaconda3\\envs\\py311\\Lib\\site-packages\\spectrumdevice\\devices\\abstract_device\\abstract_spectrum_card.py:92\u001b[0m, in \u001b[0;36mAbstractSpectrumCard.__init__\u001b[1;34m(self, device_number, ip_address, **kwargs)\u001b[0m\n\u001b[0;32m     90\u001b[0m     \u001b[38;5;28mself\u001b[39m\u001b[38;5;241m.\u001b[39m_visa_string \u001b[38;5;241m=\u001b[39m \u001b[38;5;124mf\u001b[39m\u001b[38;5;124m\"\u001b[39m\u001b[38;5;124m/dev/spcm\u001b[39m\u001b[38;5;132;01m{\u001b[39;00mdevice_number\u001b[38;5;132;01m}\u001b[39;00m\u001b[38;5;124m\"\u001b[39m\n\u001b[0;32m     91\u001b[0m \u001b[38;5;28mself\u001b[39m\u001b[38;5;241m.\u001b[39m_connect(\u001b[38;5;28mself\u001b[39m\u001b[38;5;241m.\u001b[39m_visa_string)\n\u001b[1;32m---> 92\u001b[0m \u001b[38;5;28mself\u001b[39m\u001b[38;5;241m.\u001b[39m_model_number \u001b[38;5;241m=\u001b[39m \u001b[43mModelNumber\u001b[49m\u001b[43m(\u001b[49m\u001b[38;5;28;43mself\u001b[39;49m\u001b[38;5;241;43m.\u001b[39;49m\u001b[43mread_spectrum_device_register\u001b[49m\u001b[43m(\u001b[49m\u001b[43mSPC_PCITYP\u001b[49m\u001b[43m)\u001b[49m\u001b[43m)\u001b[49m\n\u001b[0;32m     93\u001b[0m \u001b[38;5;66;03m# self._model_number ='M4i.6631-x8'\u001b[39;00m\n\u001b[0;32m     94\u001b[0m \u001b[38;5;28mself\u001b[39m\u001b[38;5;241m.\u001b[39m_trigger_sources: List[TriggerSource] \u001b[38;5;241m=\u001b[39m []\n",
      "File \u001b[1;32mc:\\Users\\florydberg01\\anaconda3\\envs\\py311\\Lib\\enum.py:712\u001b[0m, in \u001b[0;36mEnumType.__call__\u001b[1;34m(cls, value, names, module, qualname, type, start, boundary)\u001b[0m\n\u001b[0;32m    687\u001b[0m \u001b[38;5;250m\u001b[39m\u001b[38;5;124;03m\"\"\"\u001b[39;00m\n\u001b[0;32m    688\u001b[0m \u001b[38;5;124;03mEither returns an existing member, or creates a new enum class.\u001b[39;00m\n\u001b[0;32m    689\u001b[0m \n\u001b[1;32m   (...)\u001b[0m\n\u001b[0;32m    709\u001b[0m \u001b[38;5;124;03m`type`, if set, will be mixed in as the first base class.\u001b[39;00m\n\u001b[0;32m    710\u001b[0m \u001b[38;5;124;03m\"\"\"\u001b[39;00m\n\u001b[0;32m    711\u001b[0m \u001b[38;5;28;01mif\u001b[39;00m names \u001b[38;5;129;01mis\u001b[39;00m \u001b[38;5;28;01mNone\u001b[39;00m:  \u001b[38;5;66;03m# simple value lookup\u001b[39;00m\n\u001b[1;32m--> 712\u001b[0m     \u001b[38;5;28;01mreturn\u001b[39;00m \u001b[38;5;28;43mcls\u001b[39;49m\u001b[38;5;241;43m.\u001b[39;49m\u001b[38;5;21;43m__new__\u001b[39;49m\u001b[43m(\u001b[49m\u001b[38;5;28;43mcls\u001b[39;49m\u001b[43m,\u001b[49m\u001b[43m \u001b[49m\u001b[43mvalue\u001b[49m\u001b[43m)\u001b[49m\n\u001b[0;32m    713\u001b[0m \u001b[38;5;66;03m# otherwise, functional API: we're creating a new Enum type\u001b[39;00m\n\u001b[0;32m    714\u001b[0m \u001b[38;5;28;01mreturn\u001b[39;00m \u001b[38;5;28mcls\u001b[39m\u001b[38;5;241m.\u001b[39m_create_(\n\u001b[0;32m    715\u001b[0m         value,\n\u001b[0;32m    716\u001b[0m         names,\n\u001b[1;32m   (...)\u001b[0m\n\u001b[0;32m    721\u001b[0m         boundary\u001b[38;5;241m=\u001b[39mboundary,\n\u001b[0;32m    722\u001b[0m         )\n",
      "File \u001b[1;32mc:\\Users\\florydberg01\\anaconda3\\envs\\py311\\Lib\\enum.py:1135\u001b[0m, in \u001b[0;36mEnum.__new__\u001b[1;34m(cls, value)\u001b[0m\n\u001b[0;32m   1133\u001b[0m ve_exc \u001b[38;5;241m=\u001b[39m \u001b[38;5;167;01mValueError\u001b[39;00m(\u001b[38;5;124m\"\u001b[39m\u001b[38;5;132;01m%r\u001b[39;00m\u001b[38;5;124m is not a valid \u001b[39m\u001b[38;5;132;01m%s\u001b[39;00m\u001b[38;5;124m\"\u001b[39m \u001b[38;5;241m%\u001b[39m (value, \u001b[38;5;28mcls\u001b[39m\u001b[38;5;241m.\u001b[39m\u001b[38;5;18m__qualname__\u001b[39m))\n\u001b[0;32m   1134\u001b[0m \u001b[38;5;28;01mif\u001b[39;00m result \u001b[38;5;129;01mis\u001b[39;00m \u001b[38;5;28;01mNone\u001b[39;00m \u001b[38;5;129;01mand\u001b[39;00m exc \u001b[38;5;129;01mis\u001b[39;00m \u001b[38;5;28;01mNone\u001b[39;00m:\n\u001b[1;32m-> 1135\u001b[0m     \u001b[38;5;28;01mraise\u001b[39;00m ve_exc\n\u001b[0;32m   1136\u001b[0m \u001b[38;5;28;01melif\u001b[39;00m exc \u001b[38;5;129;01mis\u001b[39;00m \u001b[38;5;28;01mNone\u001b[39;00m:\n\u001b[0;32m   1137\u001b[0m     exc \u001b[38;5;241m=\u001b[39m \u001b[38;5;167;01mTypeError\u001b[39;00m(\n\u001b[0;32m   1138\u001b[0m             \u001b[38;5;124m'\u001b[39m\u001b[38;5;124merror in \u001b[39m\u001b[38;5;132;01m%s\u001b[39;00m\u001b[38;5;124m._missing_: returned \u001b[39m\u001b[38;5;132;01m%r\u001b[39;00m\u001b[38;5;124m instead of None or a valid member\u001b[39m\u001b[38;5;124m'\u001b[39m\n\u001b[0;32m   1139\u001b[0m             \u001b[38;5;241m%\u001b[39m (\u001b[38;5;28mcls\u001b[39m\u001b[38;5;241m.\u001b[39m\u001b[38;5;18m__name__\u001b[39m, result)\n\u001b[0;32m   1140\u001b[0m             )\n",
      "\u001b[1;31mValueError\u001b[0m: 484913 is not a valid ModelNumber"
     ]
    }
   ],
   "source": [
    "from spectrumdevice import SpectrumAWGCard\n",
    "\n",
    "# digitiser_1 = SpectrumDigitiserCard(device_number=0)\n",
    "awg_1 = SpectrumAWGCard(device_number=0)"
   ]
  },
  {
   "cell_type": "code",
   "execution_count": null,
   "metadata": {},
   "outputs": [],
   "source": [
    "from spectrumdevice import MockSpectrumDigitiserCard, MockSpectrumDigitiserStarHub, MockSpectrumAWGCard\n",
    "from spectrumdevice.settings import ModelNumber\n",
    "\n",
    "mock_digitiser = MockSpectrumDigitiserCard(\n",
    "    device_number=0,\n",
    "    model=ModelNumber.TYP_M2P5966_X4,\n",
    "    mock_source_frame_rate_hz=10.0,\n",
    "    num_modules=2,\n",
    "    num_channels_per_module=4\n",
    ")\n",
    "mock_hub = MockSpectrumDigitiserStarHub(device_number=0, child_cards=[mock_digitiser], master_card_index=0)\n",
    "mock_awg = MockSpectrumAWGCard(\n",
    "    device_number=0,\n",
    "    model=ModelNumber.TYP_M2P6560_X4,\n",
    "    num_modules=1,\n",
    "    num_channels_per_module=1\n",
    ")"
   ]
  },
  {
   "cell_type": "code",
   "execution_count": null,
   "metadata": {},
   "outputs": [
    {
     "name": "stdout",
     "output_type": "stream",
     "text": [
      "Python Version: 3.11.8 on Windows\n",
      "\n"
     ]
    },
    {
     "ename": "SpectrumApiCallFailed",
     "evalue": "\"spcm_dwGetParam_i32\" failed with \"The used handle is not valid.\" {'Spectrum API error code: 0x00000009'}",
     "output_type": "error",
     "traceback": [
      "\u001b[1;31m---------------------------------------------------------------------------\u001b[0m",
      "\u001b[1;31mSpectrumApiCallFailed\u001b[0m                     Traceback (most recent call last)",
      "Cell \u001b[1;32mIn[1], line 84\u001b[0m\n\u001b[0;32m     79\u001b[0m     card\u001b[38;5;241m.\u001b[39mdisconnect()\n\u001b[0;32m     82\u001b[0m \u001b[38;5;28;01mif\u001b[39;00m \u001b[38;5;18m__name__\u001b[39m \u001b[38;5;241m==\u001b[39m \u001b[38;5;124m\"\u001b[39m\u001b[38;5;124m__main__\u001b[39m\u001b[38;5;124m\"\u001b[39m:\n\u001b[0;32m     83\u001b[0m     \u001b[38;5;66;03m# change mock_mode to False to connect to a real card\u001b[39;00m\n\u001b[1;32m---> 84\u001b[0m     \u001b[43mawg_single_restart_mode_example\u001b[49m\u001b[43m(\u001b[49m\u001b[43mmock_mode\u001b[49m\u001b[38;5;241;43m=\u001b[39;49m\u001b[38;5;28;43;01mFalse\u001b[39;49;00m\u001b[43m)\u001b[49m\n",
      "Cell \u001b[1;32mIn[1], line 30\u001b[0m, in \u001b[0;36mawg_single_restart_mode_example\u001b[1;34m(mock_mode)\u001b[0m\n\u001b[0;32m     26\u001b[0m \u001b[38;5;28;01mdef\u001b[39;00m \u001b[38;5;21mawg_single_restart_mode_example\u001b[39m(mock_mode: \u001b[38;5;28mbool\u001b[39m) \u001b[38;5;241m-\u001b[39m\u001b[38;5;241m>\u001b[39m \u001b[38;5;28;01mNone\u001b[39;00m:\n\u001b[0;32m     27\u001b[0m \n\u001b[0;32m     28\u001b[0m     \u001b[38;5;66;03m# create a connection to a mock or real AWG card\u001b[39;00m\n\u001b[0;32m     29\u001b[0m     \u001b[38;5;28;01mif\u001b[39;00m \u001b[38;5;129;01mnot\u001b[39;00m mock_mode:\n\u001b[1;32m---> 30\u001b[0m         card \u001b[38;5;241m=\u001b[39m \u001b[43mSpectrumAWGCard\u001b[49m\u001b[43m(\u001b[49m\u001b[43mdevice_number\u001b[49m\u001b[38;5;241;43m=\u001b[39;49m\u001b[38;5;241;43m0\u001b[39;49m\u001b[43m)\u001b[49m\n\u001b[0;32m     31\u001b[0m     \u001b[38;5;28;01melse\u001b[39;00m:\n\u001b[0;32m     32\u001b[0m         card \u001b[38;5;241m=\u001b[39m MockSpectrumAWGCard(\n\u001b[0;32m     33\u001b[0m             device_number\u001b[38;5;241m=\u001b[39m\u001b[38;5;241m0\u001b[39m, model\u001b[38;5;241m=\u001b[39mModelNumber\u001b[38;5;241m.\u001b[39mTYP_M2P6560_X4, num_modules\u001b[38;5;241m=\u001b[39m\u001b[38;5;241m1\u001b[39m, num_channels_per_module\u001b[38;5;241m=\u001b[39m\u001b[38;5;241m1\u001b[39m\n\u001b[0;32m     34\u001b[0m         )\n",
      "File \u001b[1;32mc:\\Users\\florydberg01\\anaconda3\\envs\\py311\\Lib\\site-packages\\spectrumdevice\\devices\\abstract_device\\abstract_spectrum_card.py:95\u001b[0m, in \u001b[0;36mAbstractSpectrumCard.__init__\u001b[1;34m(self, device_number, ip_address, **kwargs)\u001b[0m\n\u001b[0;32m     93\u001b[0m \u001b[38;5;28mself\u001b[39m\u001b[38;5;241m.\u001b[39m_model_number \u001b[38;5;241m=\u001b[39m\u001b[38;5;124m'\u001b[39m\u001b[38;5;124mM4i.6631-x8\u001b[39m\u001b[38;5;124m'\u001b[39m\n\u001b[0;32m     94\u001b[0m \u001b[38;5;28mself\u001b[39m\u001b[38;5;241m.\u001b[39m_trigger_sources: List[TriggerSource] \u001b[38;5;241m=\u001b[39m []\n\u001b[1;32m---> 95\u001b[0m \u001b[38;5;28mself\u001b[39m\u001b[38;5;241m.\u001b[39m_analog_channels \u001b[38;5;241m=\u001b[39m \u001b[38;5;28;43mself\u001b[39;49m\u001b[38;5;241;43m.\u001b[39;49m\u001b[43m_init_analog_channels\u001b[49m\u001b[43m(\u001b[49m\u001b[43m)\u001b[49m\n\u001b[0;32m     96\u001b[0m \u001b[38;5;28mself\u001b[39m\u001b[38;5;241m.\u001b[39m_io_lines \u001b[38;5;241m=\u001b[39m \u001b[38;5;28mself\u001b[39m\u001b[38;5;241m.\u001b[39m_init_io_lines()\n\u001b[0;32m     97\u001b[0m \u001b[38;5;28mself\u001b[39m\u001b[38;5;241m.\u001b[39m_enabled_analog_channels: List[\u001b[38;5;28mint\u001b[39m] \u001b[38;5;241m=\u001b[39m [\u001b[38;5;241m0\u001b[39m]\n",
      "File \u001b[1;32mc:\\Users\\florydberg01\\anaconda3\\envs\\py311\\Lib\\site-packages\\spectrumdevice\\devices\\awg\\awg_card.py:36\u001b[0m, in \u001b[0;36mSpectrumAWGCard._init_analog_channels\u001b[1;34m(self)\u001b[0m\n\u001b[0;32m     35\u001b[0m \u001b[38;5;28;01mdef\u001b[39;00m \u001b[38;5;21m_init_analog_channels\u001b[39m(\u001b[38;5;28mself\u001b[39m) \u001b[38;5;241m-\u001b[39m\u001b[38;5;241m>\u001b[39m Sequence[SpectrumAWGAnalogChannelInterface]:\n\u001b[1;32m---> 36\u001b[0m     num_modules \u001b[38;5;241m=\u001b[39m \u001b[38;5;28;43mself\u001b[39;49m\u001b[38;5;241;43m.\u001b[39;49m\u001b[43mread_spectrum_device_register\u001b[49m\u001b[43m(\u001b[49m\u001b[43mSPC_MIINST_MODULES\u001b[49m\u001b[43m)\u001b[49m\n\u001b[0;32m     37\u001b[0m     num_channels_per_module \u001b[38;5;241m=\u001b[39m \u001b[38;5;28mself\u001b[39m\u001b[38;5;241m.\u001b[39mread_spectrum_device_register(SPC_MIINST_CHPERMODULE)\n\u001b[0;32m     38\u001b[0m     total_channels \u001b[38;5;241m=\u001b[39m num_modules \u001b[38;5;241m*\u001b[39m num_channels_per_module\n",
      "File \u001b[1;32mc:\\Users\\florydberg01\\anaconda3\\envs\\py311\\Lib\\site-packages\\spectrumdevice\\devices\\abstract_device\\abstract_spectrum_device.py:203\u001b[0m, in \u001b[0;36mAbstractSpectrumDevice.read_spectrum_device_register\u001b[1;34m(self, spectrum_register, length)\u001b[0m\n\u001b[0;32m    201\u001b[0m \u001b[38;5;28;01mif\u001b[39;00m \u001b[38;5;28mself\u001b[39m\u001b[38;5;241m.\u001b[39mconnected:\n\u001b[0;32m    202\u001b[0m     \u001b[38;5;28;01mif\u001b[39;00m length \u001b[38;5;241m==\u001b[39m SpectrumRegisterLength\u001b[38;5;241m.\u001b[39mTHIRTY_TWO:\n\u001b[1;32m--> 203\u001b[0m         \u001b[38;5;28;01mreturn\u001b[39;00m \u001b[43mget_spectrum_i32_api_param\u001b[49m\u001b[43m(\u001b[49m\u001b[38;5;28;43mself\u001b[39;49m\u001b[38;5;241;43m.\u001b[39;49m\u001b[43m_handle\u001b[49m\u001b[43m,\u001b[49m\u001b[43m \u001b[49m\u001b[43mspectrum_register\u001b[49m\u001b[43m)\u001b[49m\n\u001b[0;32m    204\u001b[0m     \u001b[38;5;28;01melif\u001b[39;00m length \u001b[38;5;241m==\u001b[39m SpectrumRegisterLength\u001b[38;5;241m.\u001b[39mSIXTY_FOUR:\n\u001b[0;32m    205\u001b[0m         \u001b[38;5;28;01mreturn\u001b[39;00m get_spectrum_i64_api_param(\u001b[38;5;28mself\u001b[39m\u001b[38;5;241m.\u001b[39m_handle, spectrum_register)\n",
      "File \u001b[1;32mc:\\Users\\florydberg01\\anaconda3\\envs\\py311\\Lib\\site-packages\\spectrumdevice\\spectrum_wrapper\\__init__.py:64\u001b[0m, in \u001b[0;36mget_spectrum_i32_api_param\u001b[1;34m(device_handle, spectrum_command)\u001b[0m\n\u001b[0;32m     62\u001b[0m \u001b[38;5;28;01mdef\u001b[39;00m \u001b[38;5;21mget_spectrum_i32_api_param\u001b[39m(device_handle: DEVICE_HANDLE_TYPE, spectrum_command: \u001b[38;5;28mint\u001b[39m) \u001b[38;5;241m-\u001b[39m\u001b[38;5;241m>\u001b[39m \u001b[38;5;28mint\u001b[39m:\n\u001b[0;32m     63\u001b[0m     param \u001b[38;5;241m=\u001b[39m int32(\u001b[38;5;241m0\u001b[39m)\n\u001b[1;32m---> 64\u001b[0m     \u001b[43merror_handler\u001b[49m\u001b[43m(\u001b[49m\u001b[43mspcm_dwGetParam_i32\u001b[49m\u001b[43m)\u001b[49m\u001b[43m(\u001b[49m\u001b[43mdevice_handle\u001b[49m\u001b[43m,\u001b[49m\u001b[43m \u001b[49m\u001b[43mspectrum_command\u001b[49m\u001b[43m,\u001b[49m\u001b[43m \u001b[49m\u001b[43mbyref\u001b[49m\u001b[43m(\u001b[49m\u001b[43mparam\u001b[49m\u001b[43m)\u001b[49m\u001b[43m)\u001b[49m\n\u001b[0;32m     65\u001b[0m     \u001b[38;5;28;01mreturn\u001b[39;00m param\u001b[38;5;241m.\u001b[39mvalue\n",
      "File \u001b[1;32mc:\\Users\\florydberg01\\anaconda3\\envs\\py311\\Lib\\site-packages\\spectrumdevice\\spectrum_wrapper\\error_handler.py:71\u001b[0m, in \u001b[0;36merror_handler.<locals>.wrapper\u001b[1;34m(*args, **kwargs)\u001b[0m\n\u001b[0;32m     69\u001b[0m     \u001b[38;5;28;01mraise\u001b[39;00m ERROR_CODES_WITH_EXCEPTIONS[error_code](func\u001b[38;5;241m.\u001b[39m\u001b[38;5;18m__name__\u001b[39m, error_code, description)\n\u001b[0;32m     70\u001b[0m \u001b[38;5;28;01melse\u001b[39;00m:\n\u001b[1;32m---> 71\u001b[0m     \u001b[38;5;28;01mraise\u001b[39;00m SpectrumApiCallFailed(func\u001b[38;5;241m.\u001b[39m\u001b[38;5;18m__name__\u001b[39m, error_code, description)\n",
      "\u001b[1;31mSpectrumApiCallFailed\u001b[0m: \"spcm_dwGetParam_i32\" failed with \"The used handle is not valid.\" {'Spectrum API error code: 0x00000009'}"
     ]
    }
   ],
   "source": [
    "from time import sleep\n",
    "\n",
    "from numpy import int16\n",
    "\n",
    "from spectrumdevice.devices.awg.awg_card import SpectrumAWGCard\n",
    "from spectrumdevice.devices.awg.synthesis import make_full_scale_sine_waveform\n",
    "from spectrumdevice.devices.mocks import MockSpectrumAWGCard\n",
    "from spectrumdevice.settings import (\n",
    "    TriggerSettings,\n",
    "    TriggerSource,\n",
    "    GenerationSettings,\n",
    "    OutputChannelFilter,\n",
    "    ModelNumber,\n",
    ")\n",
    "from spectrumdevice.settings.channel import OutputChannelStopLevelMode\n",
    "from spectrumdevice.settings.device_modes import GenerationMode\n",
    "\n",
    "PULSE_RATE_HZ = 200\n",
    "NUM_TRANSMISSIONS = 5\n",
    "NUM_CYCLES_PER_TRANSMISSION = 3\n",
    "FREQUENCY_HZ = 1e3\n",
    "AMPLITUDE_V = 1.0\n",
    "SAMPLE_RATE = 125000000\n",
    "\n",
    "\n",
    "def awg_single_restart_mode_example(mock_mode: bool) -> None:\n",
    "\n",
    "    # create a connection to a mock or real AWG card\n",
    "    if not mock_mode:\n",
    "        card = SpectrumAWGCard(device_number=0)\n",
    "    else:\n",
    "        card = MockSpectrumAWGCard(\n",
    "            device_number=0, model=ModelNumber.TYP_M2P6560_X4, num_modules=1, num_channels_per_module=1\n",
    "        )\n",
    "\n",
    "    sample_rate_in_hz = SAMPLE_RATE\n",
    "    number_of_generations = NUM_TRANSMISSIONS\n",
    "\n",
    "    # create a waveform to generate\n",
    "    t, analog_wfm = make_full_scale_sine_waveform(\n",
    "        frequency_in_hz=FREQUENCY_HZ,\n",
    "        sample_rate_in_hz=sample_rate_in_hz,\n",
    "        num_cycles=NUM_CYCLES_PER_TRANSMISSION,\n",
    "        dtype=int16,\n",
    "    )\n",
    "\n",
    "    # configure signal generation\n",
    "    generation_settings = GenerationSettings(\n",
    "        generation_mode=GenerationMode.SPC_REP_STD_SINGLERESTART,\n",
    "        waveform=analog_wfm,\n",
    "        sample_rate_in_hz=sample_rate_in_hz,\n",
    "        num_loops=number_of_generations,\n",
    "        enabled_channels=[0],\n",
    "        signal_amplitudes_in_mv=[int(round((AMPLITUDE_V * 1000)))],\n",
    "        dc_offsets_in_mv=[0],\n",
    "        output_filters=[OutputChannelFilter.LOW_PASS_70_MHZ],\n",
    "        stop_level_modes=[OutputChannelStopLevelMode.SPCM_STOPLVL_ZERO],\n",
    "    )\n",
    "    card.configure_generation(generation_settings)\n",
    "\n",
    "    # configure triggering (here we configure an external trigger, but actually we will be forcing\n",
    "    # the trigger event to occur from software on line 72)\n",
    "    trigger_settings = TriggerSettings(\n",
    "        trigger_sources=[TriggerSource.SPC_TMASK_EXT0],\n",
    "    )\n",
    "    card.configure_trigger(trigger_settings)\n",
    "\n",
    "    # start the card and then force a trigger for each generation we want to perform\n",
    "    # we are using GenerationMode.SPC_REP_STD_SINGLERESTART so the whole waveform will be generated each time the card\n",
    "    # is trigger, until \"num_loops\" triggers have been detected.\n",
    "    card.start()\n",
    "\n",
    "    # force triggers at the requested rate. Remove if real external trigger present.\n",
    "    for _ in range(number_of_generations):\n",
    "        card.force_trigger()\n",
    "        sleep(1 / PULSE_RATE_HZ)\n",
    "        print(\"generated pulse\")\n",
    "    card.stop()\n",
    "    card.disconnect()\n",
    "\n",
    "\n",
    "if __name__ == \"__main__\":\n",
    "    # change mock_mode to False to connect to a real card\n",
    "    awg_single_restart_mode_example(mock_mode=False)"
   ]
  },
  {
   "cell_type": "code",
   "execution_count": null,
   "metadata": {},
   "outputs": [
    {
     "ename": "ValueError",
     "evalue": "484913 is not a valid ModelNumber",
     "output_type": "error",
     "traceback": [
      "\u001b[1;31m---------------------------------------------------------------------------\u001b[0m",
      "\u001b[1;31mValueError\u001b[0m                                Traceback (most recent call last)",
      "Cell \u001b[1;32mIn[8], line 1\u001b[0m\n\u001b[1;32m----> 1\u001b[0m card \u001b[38;5;241m=\u001b[39m \u001b[43mSpectrumAWGCard\u001b[49m\u001b[43m(\u001b[49m\u001b[43mdevice_number\u001b[49m\u001b[38;5;241;43m=\u001b[39;49m\u001b[38;5;241;43m0\u001b[39;49m\u001b[43m)\u001b[49m\n\u001b[0;32m      2\u001b[0m card\u001b[38;5;241m.\u001b[39mstop()\n\u001b[0;32m      3\u001b[0m card\u001b[38;5;241m.\u001b[39mdisconnect()\n",
      "File \u001b[1;32mc:\\Users\\florydberg01\\anaconda3\\envs\\py311\\Lib\\site-packages\\spectrumdevice\\devices\\abstract_device\\abstract_spectrum_card.py:92\u001b[0m, in \u001b[0;36mAbstractSpectrumCard.__init__\u001b[1;34m(self, device_number, ip_address, **kwargs)\u001b[0m\n\u001b[0;32m     90\u001b[0m     \u001b[38;5;28mself\u001b[39m\u001b[38;5;241m.\u001b[39m_visa_string \u001b[38;5;241m=\u001b[39m \u001b[38;5;124mf\u001b[39m\u001b[38;5;124m\"\u001b[39m\u001b[38;5;124m/dev/spcm\u001b[39m\u001b[38;5;132;01m{\u001b[39;00mdevice_number\u001b[38;5;132;01m}\u001b[39;00m\u001b[38;5;124m\"\u001b[39m\n\u001b[0;32m     91\u001b[0m \u001b[38;5;28mself\u001b[39m\u001b[38;5;241m.\u001b[39m_connect(\u001b[38;5;28mself\u001b[39m\u001b[38;5;241m.\u001b[39m_visa_string)\n\u001b[1;32m---> 92\u001b[0m \u001b[38;5;28mself\u001b[39m\u001b[38;5;241m.\u001b[39m_model_number \u001b[38;5;241m=\u001b[39m \u001b[43mModelNumber\u001b[49m\u001b[43m(\u001b[49m\u001b[38;5;28;43mself\u001b[39;49m\u001b[38;5;241;43m.\u001b[39;49m\u001b[43mread_spectrum_device_register\u001b[49m\u001b[43m(\u001b[49m\u001b[43mSPC_PCITYP\u001b[49m\u001b[43m)\u001b[49m\u001b[43m)\u001b[49m\n\u001b[0;32m     93\u001b[0m \u001b[38;5;28mself\u001b[39m\u001b[38;5;241m.\u001b[39m_trigger_sources: List[TriggerSource] \u001b[38;5;241m=\u001b[39m []\n\u001b[0;32m     94\u001b[0m \u001b[38;5;28mself\u001b[39m\u001b[38;5;241m.\u001b[39m_analog_channels \u001b[38;5;241m=\u001b[39m \u001b[38;5;28mself\u001b[39m\u001b[38;5;241m.\u001b[39m_init_analog_channels()\n",
      "File \u001b[1;32mc:\\Users\\florydberg01\\anaconda3\\envs\\py311\\Lib\\enum.py:712\u001b[0m, in \u001b[0;36mEnumType.__call__\u001b[1;34m(cls, value, names, module, qualname, type, start, boundary)\u001b[0m\n\u001b[0;32m    687\u001b[0m \u001b[38;5;250m\u001b[39m\u001b[38;5;124;03m\"\"\"\u001b[39;00m\n\u001b[0;32m    688\u001b[0m \u001b[38;5;124;03mEither returns an existing member, or creates a new enum class.\u001b[39;00m\n\u001b[0;32m    689\u001b[0m \n\u001b[1;32m   (...)\u001b[0m\n\u001b[0;32m    709\u001b[0m \u001b[38;5;124;03m`type`, if set, will be mixed in as the first base class.\u001b[39;00m\n\u001b[0;32m    710\u001b[0m \u001b[38;5;124;03m\"\"\"\u001b[39;00m\n\u001b[0;32m    711\u001b[0m \u001b[38;5;28;01mif\u001b[39;00m names \u001b[38;5;129;01mis\u001b[39;00m \u001b[38;5;28;01mNone\u001b[39;00m:  \u001b[38;5;66;03m# simple value lookup\u001b[39;00m\n\u001b[1;32m--> 712\u001b[0m     \u001b[38;5;28;01mreturn\u001b[39;00m \u001b[38;5;28;43mcls\u001b[39;49m\u001b[38;5;241;43m.\u001b[39;49m\u001b[38;5;21;43m__new__\u001b[39;49m\u001b[43m(\u001b[49m\u001b[38;5;28;43mcls\u001b[39;49m\u001b[43m,\u001b[49m\u001b[43m \u001b[49m\u001b[43mvalue\u001b[49m\u001b[43m)\u001b[49m\n\u001b[0;32m    713\u001b[0m \u001b[38;5;66;03m# otherwise, functional API: we're creating a new Enum type\u001b[39;00m\n\u001b[0;32m    714\u001b[0m \u001b[38;5;28;01mreturn\u001b[39;00m \u001b[38;5;28mcls\u001b[39m\u001b[38;5;241m.\u001b[39m_create_(\n\u001b[0;32m    715\u001b[0m         value,\n\u001b[0;32m    716\u001b[0m         names,\n\u001b[1;32m   (...)\u001b[0m\n\u001b[0;32m    721\u001b[0m         boundary\u001b[38;5;241m=\u001b[39mboundary,\n\u001b[0;32m    722\u001b[0m         )\n",
      "File \u001b[1;32mc:\\Users\\florydberg01\\anaconda3\\envs\\py311\\Lib\\enum.py:1135\u001b[0m, in \u001b[0;36mEnum.__new__\u001b[1;34m(cls, value)\u001b[0m\n\u001b[0;32m   1133\u001b[0m ve_exc \u001b[38;5;241m=\u001b[39m \u001b[38;5;167;01mValueError\u001b[39;00m(\u001b[38;5;124m\"\u001b[39m\u001b[38;5;132;01m%r\u001b[39;00m\u001b[38;5;124m is not a valid \u001b[39m\u001b[38;5;132;01m%s\u001b[39;00m\u001b[38;5;124m\"\u001b[39m \u001b[38;5;241m%\u001b[39m (value, \u001b[38;5;28mcls\u001b[39m\u001b[38;5;241m.\u001b[39m\u001b[38;5;18m__qualname__\u001b[39m))\n\u001b[0;32m   1134\u001b[0m \u001b[38;5;28;01mif\u001b[39;00m result \u001b[38;5;129;01mis\u001b[39;00m \u001b[38;5;28;01mNone\u001b[39;00m \u001b[38;5;129;01mand\u001b[39;00m exc \u001b[38;5;129;01mis\u001b[39;00m \u001b[38;5;28;01mNone\u001b[39;00m:\n\u001b[1;32m-> 1135\u001b[0m     \u001b[38;5;28;01mraise\u001b[39;00m ve_exc\n\u001b[0;32m   1136\u001b[0m \u001b[38;5;28;01melif\u001b[39;00m exc \u001b[38;5;129;01mis\u001b[39;00m \u001b[38;5;28;01mNone\u001b[39;00m:\n\u001b[0;32m   1137\u001b[0m     exc \u001b[38;5;241m=\u001b[39m \u001b[38;5;167;01mTypeError\u001b[39;00m(\n\u001b[0;32m   1138\u001b[0m             \u001b[38;5;124m'\u001b[39m\u001b[38;5;124merror in \u001b[39m\u001b[38;5;132;01m%s\u001b[39;00m\u001b[38;5;124m._missing_: returned \u001b[39m\u001b[38;5;132;01m%r\u001b[39;00m\u001b[38;5;124m instead of None or a valid member\u001b[39m\u001b[38;5;124m'\u001b[39m\n\u001b[0;32m   1139\u001b[0m             \u001b[38;5;241m%\u001b[39m (\u001b[38;5;28mcls\u001b[39m\u001b[38;5;241m.\u001b[39m\u001b[38;5;18m__name__\u001b[39m, result)\n\u001b[0;32m   1140\u001b[0m             )\n",
      "\u001b[1;31mValueError\u001b[0m: 484913 is not a valid ModelNumber"
     ]
    }
   ],
   "source": [
    "card = SpectrumAWGCard(device_number=0)\n",
    "card.stop()\n",
    "card.disconnect()"
   ]
  },
  {
   "cell_type": "markdown",
   "metadata": {},
   "source": [
    "## *New Markus Program*"
   ]
  },
  {
   "cell_type": "code",
   "execution_count": 1,
   "metadata": {},
   "outputs": [
    {
     "ename": "ModuleNotFoundError",
     "evalue": "No module named 'spectrum_card_interface'",
     "output_type": "error",
     "traceback": [
      "\u001b[1;31m---------------------------------------------------------------------------\u001b[0m",
      "\u001b[1;31mModuleNotFoundError\u001b[0m                       Traceback (most recent call last)",
      "Cell \u001b[1;32mIn[1], line 5\u001b[0m\n\u001b[0;32m      1\u001b[0m \u001b[38;5;66;03m# Author: Marcus Culemann\u001b[39;00m\n\u001b[0;32m      2\u001b[0m \u001b[38;5;66;03m# Version: March 2024\u001b[39;00m\n\u001b[0;32m      4\u001b[0m \u001b[38;5;28;01mimport\u001b[39;00m \u001b[38;5;21;01mnumpy\u001b[39;00m \u001b[38;5;28;01mas\u001b[39;00m \u001b[38;5;21;01mnp\u001b[39;00m\n\u001b[1;32m----> 5\u001b[0m \u001b[38;5;28;01mfrom\u001b[39;00m \u001b[38;5;21;01mspectrum_card_interface\u001b[39;00m \u001b[38;5;28;01mimport\u001b[39;00m SpectrumCardInterface\n\u001b[0;32m      6\u001b[0m \u001b[38;5;28;01mfrom\u001b[39;00m \u001b[38;5;21;01mspectrum_card_waveform_generation_tool\u001b[39;00m \u001b[38;5;28;01mimport\u001b[39;00m SpectrumCardWaveformTool\n\u001b[0;32m      8\u001b[0m \u001b[38;5;66;03m######################################################################################################\u001b[39;00m\n\u001b[0;32m      9\u001b[0m \u001b[38;5;66;03m## This file automatically sets up the Spectrum Card according to the chosen settings.              ##\u001b[39;00m\n\u001b[0;32m     10\u001b[0m \u001b[38;5;66;03m######################################################################################################\u001b[39;00m\n\u001b[1;32m   (...)\u001b[0m\n\u001b[0;32m     13\u001b[0m \u001b[38;5;66;03m# Waveform settings #\u001b[39;00m\n\u001b[0;32m     14\u001b[0m \u001b[38;5;66;03m#####################\u001b[39;00m\n",
      "\u001b[1;31mModuleNotFoundError\u001b[0m: No module named 'spectrum_card_interface'"
     ]
    }
   ],
   "source": [
    "# Author: Marcus Culemann\n",
    "# Version: March 2024\n",
    "\n",
    "import numpy as np\n",
    "from spectrum_card_interface import SpectrumCardInterface\n",
    "from spectrum_card_waveform_generation_tool import SpectrumCardWaveformTool\n",
    "\n",
    "######################################################################################################\n",
    "## This file automatically sets up the Spectrum Card according to the chosen settings.              ##\n",
    "######################################################################################################\n",
    "\n",
    "#####################\n",
    "# Waveform settings #\n",
    "#####################\n",
    "\n",
    "freq_array_horizontal = np.array([200e6])\n",
    "freq_array_vertical = np.array([60e6, 61e6])\n",
    "\n",
    "amplitude_array_horizontal = np.ones_like(freq_array_horizontal)\n",
    "amplitude_array_vertical = np.ones_like(freq_array_vertical)\n",
    "\n",
    "rng = np.random.default_rng(seed=13438354524)\n",
    "phase_array_horizontal = rng.uniform(size=freq_array_horizontal.size)*2*np.pi\n",
    "phase_array_vertical = rng.uniform(size=freq_array_vertical.size)*2*np.pi\n",
    "\n",
    "#################\n",
    "# Card Settings #\n",
    "#################\n",
    "spectrum_card = SpectrumCardInterface()\n",
    "spectrum_card.ch1_enabled = True\n",
    "spectrum_card.ch2_enabled = False\n",
    "spectrum_card.amplitude_ch1 = 2500\n",
    "spectrum_card.amplitude_ch2 = 158\n",
    "spectrum_card.num_loops = 1000\n",
    "spectrum_card.memory_size = 1024**2 * 20\n",
    "spectrum_card.sampleRate = 625\n",
    "\n",
    "########################################\n",
    "# Generate the waveform and setup card #\n",
    "########################################\n",
    "\n",
    "waveform_generator = SpectrumCardWaveformTool(freq_array_horizontal=freq_array_horizontal,\n",
    "                                     freq_array_vertical=freq_array_vertical,\n",
    "                                     amplitude_array_horizontal=amplitude_array_horizontal,\n",
    "                                     amplitude_array_vertical=amplitude_array_vertical,\n",
    "                                     phase_array_horizontal=phase_array_horizontal,\n",
    "                                     phase_array_vertical=phase_array_vertical,\n",
    "                                     num_samples=spectrum_card.memory_size,\n",
    "                                     sample_rate=spectrum_card.sampleRate\n",
    "                                     )\n",
    "\n",
    "spectrum_card.replay_data_ch1 = waveform_generator.getWaveformHorizontal()\n",
    "spectrum_card.replay_data_ch2 = waveform_generator.getWaveformVertical()\n",
    "\n",
    "spectrum_card.setupCard()\n",
    "spectrum_card.startReplay()\n",
    "\n",
    "spectrum_card.closeCard()"
   ]
  }
 ],
 "metadata": {
  "kernelspec": {
   "display_name": "py38",
   "language": "python",
   "name": "python3"
  },
  "language_info": {
   "codemirror_mode": {
    "name": "ipython",
    "version": 3
   },
   "file_extension": ".py",
   "mimetype": "text/x-python",
   "name": "python",
   "nbconvert_exporter": "python",
   "pygments_lexer": "ipython3",
   "version": "3.8.17"
  }
 },
 "nbformat": 4,
 "nbformat_minor": 2
}
